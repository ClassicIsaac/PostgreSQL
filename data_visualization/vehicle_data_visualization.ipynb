{
 "cells": [
  {
   "cell_type": "code",
   "execution_count": 1,
   "id": "1c4249c0",
   "metadata": {},
   "outputs": [],
   "source": [
    "import pandas as pd\n",
    "import seaborn as sns"
   ]
  },
  {
   "cell_type": "code",
   "execution_count": 2,
   "id": "5fd7d4e0",
   "metadata": {},
   "outputs": [],
   "source": [
    "vehicle_columns=[\"Accident_Index\",\"Vehicle_Type\",\"Propulsion_Code\",\"Age_of_Driver\",\"Engine_Capacity_(CC)\"]"
   ]
  },
  {
   "cell_type": "code",
   "execution_count": 3,
   "id": "35f690a0",
   "metadata": {},
   "outputs": [],
   "source": [
    "vehicle=pd.read_csv(\"C:/Users/ORESANYA/Classic Isaac/Git/PostgreSQL/dataset/Vehicles_2015.txt\",usecols=vehicle_columns,dtype={'Accident_Index':str})"
   ]
  },
  {
   "cell_type": "code",
   "execution_count": 4,
   "id": "9f963913",
   "metadata": {},
   "outputs": [
    {
     "data": {
      "text/html": [
       "<div>\n",
       "<style scoped>\n",
       "    .dataframe tbody tr th:only-of-type {\n",
       "        vertical-align: middle;\n",
       "    }\n",
       "\n",
       "    .dataframe tbody tr th {\n",
       "        vertical-align: top;\n",
       "    }\n",
       "\n",
       "    .dataframe thead th {\n",
       "        text-align: right;\n",
       "    }\n",
       "</style>\n",
       "<table border=\"1\" class=\"dataframe\">\n",
       "  <thead>\n",
       "    <tr style=\"text-align: right;\">\n",
       "      <th></th>\n",
       "      <th>Vehicle_Type</th>\n",
       "      <th>Age_of_Driver</th>\n",
       "      <th>Engine_Capacity_(CC)</th>\n",
       "      <th>Propulsion_Code</th>\n",
       "    </tr>\n",
       "  </thead>\n",
       "  <tbody>\n",
       "    <tr>\n",
       "      <th>Vehicle_Type</th>\n",
       "      <td>1.000000</td>\n",
       "      <td>0.007632</td>\n",
       "      <td>0.216925</td>\n",
       "      <td>0.080895</td>\n",
       "    </tr>\n",
       "    <tr>\n",
       "      <th>Age_of_Driver</th>\n",
       "      <td>0.007632</td>\n",
       "      <td>1.000000</td>\n",
       "      <td>0.149133</td>\n",
       "      <td>0.162655</td>\n",
       "    </tr>\n",
       "    <tr>\n",
       "      <th>Engine_Capacity_(CC)</th>\n",
       "      <td>0.216925</td>\n",
       "      <td>0.149133</td>\n",
       "      <td>1.000000</td>\n",
       "      <td>0.528626</td>\n",
       "    </tr>\n",
       "    <tr>\n",
       "      <th>Propulsion_Code</th>\n",
       "      <td>0.080895</td>\n",
       "      <td>0.162655</td>\n",
       "      <td>0.528626</td>\n",
       "      <td>1.000000</td>\n",
       "    </tr>\n",
       "  </tbody>\n",
       "</table>\n",
       "</div>"
      ],
      "text/plain": [
       "                      Vehicle_Type  Age_of_Driver  Engine_Capacity_(CC)  \\\n",
       "Vehicle_Type              1.000000       0.007632              0.216925   \n",
       "Age_of_Driver             0.007632       1.000000              0.149133   \n",
       "Engine_Capacity_(CC)      0.216925       0.149133              1.000000   \n",
       "Propulsion_Code           0.080895       0.162655              0.528626   \n",
       "\n",
       "                      Propulsion_Code  \n",
       "Vehicle_Type                 0.080895  \n",
       "Age_of_Driver                0.162655  \n",
       "Engine_Capacity_(CC)         0.528626  \n",
       "Propulsion_Code              1.000000  "
      ]
     },
     "execution_count": 4,
     "metadata": {},
     "output_type": "execute_result"
    }
   ],
   "source": [
    "vehicle_matrix=vehicle.corr()\n",
    "vehicle_matrix"
   ]
  },
  {
   "cell_type": "code",
   "execution_count": null,
   "id": "a3c926a1",
   "metadata": {},
   "outputs": [],
   "source": []
  }
 ],
 "metadata": {
  "kernelspec": {
   "display_name": "Python 3 (ipykernel)",
   "language": "python",
   "name": "python3"
  },
  "language_info": {
   "codemirror_mode": {
    "name": "ipython",
    "version": 3
   },
   "file_extension": ".py",
   "mimetype": "text/x-python",
   "name": "python",
   "nbconvert_exporter": "python",
   "pygments_lexer": "ipython3",
   "version": "3.9.12"
  }
 },
 "nbformat": 4,
 "nbformat_minor": 5
}
