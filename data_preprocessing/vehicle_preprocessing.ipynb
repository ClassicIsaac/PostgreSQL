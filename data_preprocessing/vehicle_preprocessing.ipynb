{
 "cells": [
  {
   "cell_type": "code",
   "execution_count": 1,
   "id": "6f1a1421",
   "metadata": {},
   "outputs": [],
   "source": [
    "import pandas as pd"
   ]
  },
  {
   "cell_type": "code",
   "execution_count": 2,
   "id": "2ccff271",
   "metadata": {},
   "outputs": [],
   "source": [
    "vehicle_columns=[\"Accident_Index\",\"Vehicle_Type\",\"Propulsion_Code\",\"Age_of_Driver\",\"Engine_Capacity_(CC)\"]"
   ]
  },
  {
   "cell_type": "code",
   "execution_count": 3,
   "id": "f4fa3b38",
   "metadata": {},
   "outputs": [],
   "source": [
    "vehicle=pd.read_csv(\"C:/Users/ORESANYA/Classic Isaac/Git/PostgreSQL/dataset/Vehicles_2015.txt\",usecols=vehicle_columns,dtype={'Accident_Index':str})"
   ]
  },
  {
   "cell_type": "code",
   "execution_count": 4,
   "id": "1babf88a",
   "metadata": {},
   "outputs": [
    {
     "data": {
      "text/html": [
       "<div>\n",
       "<style scoped>\n",
       "    .dataframe tbody tr th:only-of-type {\n",
       "        vertical-align: middle;\n",
       "    }\n",
       "\n",
       "    .dataframe tbody tr th {\n",
       "        vertical-align: top;\n",
       "    }\n",
       "\n",
       "    .dataframe thead th {\n",
       "        text-align: right;\n",
       "    }\n",
       "</style>\n",
       "<table border=\"1\" class=\"dataframe\">\n",
       "  <thead>\n",
       "    <tr style=\"text-align: right;\">\n",
       "      <th></th>\n",
       "      <th>Accident_Index</th>\n",
       "      <th>Vehicle_Type</th>\n",
       "      <th>Age_of_Driver</th>\n",
       "      <th>Engine_Capacity_(CC)</th>\n",
       "      <th>Propulsion_Code</th>\n",
       "    </tr>\n",
       "  </thead>\n",
       "  <tbody>\n",
       "    <tr>\n",
       "      <th>0</th>\n",
       "      <td>201506E098757</td>\n",
       "      <td>9</td>\n",
       "      <td>45</td>\n",
       "      <td>1794</td>\n",
       "      <td>1</td>\n",
       "    </tr>\n",
       "    <tr>\n",
       "      <th>1</th>\n",
       "      <td>201506E098766</td>\n",
       "      <td>9</td>\n",
       "      <td>25</td>\n",
       "      <td>1582</td>\n",
       "      <td>2</td>\n",
       "    </tr>\n",
       "    <tr>\n",
       "      <th>2</th>\n",
       "      <td>201506E098766</td>\n",
       "      <td>9</td>\n",
       "      <td>51</td>\n",
       "      <td>-1</td>\n",
       "      <td>-1</td>\n",
       "    </tr>\n",
       "    <tr>\n",
       "      <th>3</th>\n",
       "      <td>201506E098777</td>\n",
       "      <td>20</td>\n",
       "      <td>50</td>\n",
       "      <td>4462</td>\n",
       "      <td>2</td>\n",
       "    </tr>\n",
       "    <tr>\n",
       "      <th>4</th>\n",
       "      <td>201506E098780</td>\n",
       "      <td>9</td>\n",
       "      <td>27</td>\n",
       "      <td>1598</td>\n",
       "      <td>2</td>\n",
       "    </tr>\n",
       "  </tbody>\n",
       "</table>\n",
       "</div>"
      ],
      "text/plain": [
       "  Accident_Index  Vehicle_Type  Age_of_Driver  Engine_Capacity_(CC)  \\\n",
       "0  201506E098757             9             45                  1794   \n",
       "1  201506E098766             9             25                  1582   \n",
       "2  201506E098766             9             51                    -1   \n",
       "3  201506E098777            20             50                  4462   \n",
       "4  201506E098780             9             27                  1598   \n",
       "\n",
       "   Propulsion_Code  \n",
       "0                1  \n",
       "1                2  \n",
       "2               -1  \n",
       "3                2  \n",
       "4                2  "
      ]
     },
     "execution_count": 4,
     "metadata": {},
     "output_type": "execute_result"
    }
   ],
   "source": [
    "vehicle.head()"
   ]
  },
  {
   "cell_type": "code",
   "execution_count": 5,
   "id": "53b0f7c8",
   "metadata": {},
   "outputs": [
    {
     "data": {
      "text/plain": [
       "Accident_Index          0\n",
       "Vehicle_Type            0\n",
       "Age_of_Driver           0\n",
       "Engine_Capacity_(CC)    0\n",
       "Propulsion_Code         0\n",
       "dtype: int64"
      ]
     },
     "execution_count": 5,
     "metadata": {},
     "output_type": "execute_result"
    }
   ],
   "source": [
    "vehicle.shape\n",
    "vehicle.isnull().sum()"
   ]
  },
  {
   "cell_type": "code",
   "execution_count": 6,
   "id": "d2d8d71a",
   "metadata": {},
   "outputs": [],
   "source": [
    "#Rename columns to conform to PostgreSQL naming conventions\n",
    "vehicle.rename(columns={\n",
    "    \"Accident_Index\":\"accident_index\",\n",
    "    \"Vehicle_Type\":\"vehicle_type\",\n",
    "    \"Age_of_Driver\":\"age_of_driver\",\n",
    "    \"Engine_Capacity_(CC)\":\"engine_capacity_(cc)\",\n",
    "    \"Propulsion_Code\":\"propulsion_code\",\n",
    "},inplace=True)"
   ]
  },
  {
   "cell_type": "code",
   "execution_count": 7,
   "id": "118d7ded",
   "metadata": {},
   "outputs": [
    {
     "data": {
      "text/html": [
       "<div>\n",
       "<style scoped>\n",
       "    .dataframe tbody tr th:only-of-type {\n",
       "        vertical-align: middle;\n",
       "    }\n",
       "\n",
       "    .dataframe tbody tr th {\n",
       "        vertical-align: top;\n",
       "    }\n",
       "\n",
       "    .dataframe thead th {\n",
       "        text-align: right;\n",
       "    }\n",
       "</style>\n",
       "<table border=\"1\" class=\"dataframe\">\n",
       "  <thead>\n",
       "    <tr style=\"text-align: right;\">\n",
       "      <th></th>\n",
       "      <th>accident_index</th>\n",
       "      <th>vehicle_type</th>\n",
       "      <th>age_of_driver</th>\n",
       "      <th>engine_capacity_(cc)</th>\n",
       "      <th>propulsion_code</th>\n",
       "    </tr>\n",
       "  </thead>\n",
       "  <tbody>\n",
       "    <tr>\n",
       "      <th>0</th>\n",
       "      <td>201506E098757</td>\n",
       "      <td>9</td>\n",
       "      <td>45</td>\n",
       "      <td>1794</td>\n",
       "      <td>1</td>\n",
       "    </tr>\n",
       "    <tr>\n",
       "      <th>1</th>\n",
       "      <td>201506E098766</td>\n",
       "      <td>9</td>\n",
       "      <td>25</td>\n",
       "      <td>1582</td>\n",
       "      <td>2</td>\n",
       "    </tr>\n",
       "    <tr>\n",
       "      <th>2</th>\n",
       "      <td>201506E098766</td>\n",
       "      <td>9</td>\n",
       "      <td>51</td>\n",
       "      <td>-1</td>\n",
       "      <td>-1</td>\n",
       "    </tr>\n",
       "    <tr>\n",
       "      <th>3</th>\n",
       "      <td>201506E098777</td>\n",
       "      <td>20</td>\n",
       "      <td>50</td>\n",
       "      <td>4462</td>\n",
       "      <td>2</td>\n",
       "    </tr>\n",
       "    <tr>\n",
       "      <th>4</th>\n",
       "      <td>201506E098780</td>\n",
       "      <td>9</td>\n",
       "      <td>27</td>\n",
       "      <td>1598</td>\n",
       "      <td>2</td>\n",
       "    </tr>\n",
       "    <tr>\n",
       "      <th>5</th>\n",
       "      <td>201506E098780</td>\n",
       "      <td>1</td>\n",
       "      <td>46</td>\n",
       "      <td>-1</td>\n",
       "      <td>-1</td>\n",
       "    </tr>\n",
       "    <tr>\n",
       "      <th>6</th>\n",
       "      <td>201506E098792</td>\n",
       "      <td>3</td>\n",
       "      <td>27</td>\n",
       "      <td>50</td>\n",
       "      <td>1</td>\n",
       "    </tr>\n",
       "    <tr>\n",
       "      <th>7</th>\n",
       "      <td>201506E098792</td>\n",
       "      <td>9</td>\n",
       "      <td>33</td>\n",
       "      <td>1995</td>\n",
       "      <td>2</td>\n",
       "    </tr>\n",
       "    <tr>\n",
       "      <th>8</th>\n",
       "      <td>201506E098804</td>\n",
       "      <td>9</td>\n",
       "      <td>24</td>\n",
       "      <td>1398</td>\n",
       "      <td>1</td>\n",
       "    </tr>\n",
       "    <tr>\n",
       "      <th>9</th>\n",
       "      <td>201506E098826</td>\n",
       "      <td>9</td>\n",
       "      <td>25</td>\n",
       "      <td>1686</td>\n",
       "      <td>2</td>\n",
       "    </tr>\n",
       "  </tbody>\n",
       "</table>\n",
       "</div>"
      ],
      "text/plain": [
       "  accident_index  vehicle_type  age_of_driver  engine_capacity_(cc)  \\\n",
       "0  201506E098757             9             45                  1794   \n",
       "1  201506E098766             9             25                  1582   \n",
       "2  201506E098766             9             51                    -1   \n",
       "3  201506E098777            20             50                  4462   \n",
       "4  201506E098780             9             27                  1598   \n",
       "5  201506E098780             1             46                    -1   \n",
       "6  201506E098792             3             27                    50   \n",
       "7  201506E098792             9             33                  1995   \n",
       "8  201506E098804             9             24                  1398   \n",
       "9  201506E098826             9             25                  1686   \n",
       "\n",
       "   propulsion_code  \n",
       "0                1  \n",
       "1                2  \n",
       "2               -1  \n",
       "3                2  \n",
       "4                2  \n",
       "5               -1  \n",
       "6                1  \n",
       "7                2  \n",
       "8                1  \n",
       "9                2  "
      ]
     },
     "execution_count": 7,
     "metadata": {},
     "output_type": "execute_result"
    }
   ],
   "source": [
    "vehicle.head(10)"
   ]
  },
  {
   "cell_type": "code",
   "execution_count": 8,
   "id": "d82faa24",
   "metadata": {},
   "outputs": [],
   "source": [
    "#Drop rows with all columns being duplicates of another row\n",
    "vehicle.drop_duplicates(inplace=True)"
   ]
  },
  {
   "cell_type": "code",
   "execution_count": 9,
   "id": "f26b7c18",
   "metadata": {},
   "outputs": [],
   "source": [
    "vehicle.to_csv(\"C:/Users/ORESANYA/Classic Isaac/Git/PostgreSQL/dataset/vehicle_preprocessed.csv\",index=False)"
   ]
  },
  {
   "cell_type": "code",
   "execution_count": null,
   "id": "4573186e",
   "metadata": {},
   "outputs": [],
   "source": []
  }
 ],
 "metadata": {
  "kernelspec": {
   "display_name": "Python 3 (ipykernel)",
   "language": "python",
   "name": "python3"
  },
  "language_info": {
   "codemirror_mode": {
    "name": "ipython",
    "version": 3
   },
   "file_extension": ".py",
   "mimetype": "text/x-python",
   "name": "python",
   "nbconvert_exporter": "python",
   "pygments_lexer": "ipython3",
   "version": "3.9.12"
  }
 },
 "nbformat": 4,
 "nbformat_minor": 5
}
